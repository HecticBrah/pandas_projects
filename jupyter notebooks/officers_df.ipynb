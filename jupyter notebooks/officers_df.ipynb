{
 "cells": [
  {
   "cell_type": "markdown",
   "id": "6d450f3b",
   "metadata": {},
   "source": [
    "#### Importing necessary libraries"
   ]
  },
  {
   "cell_type": "code",
   "execution_count": 1,
   "id": "df5a8e7b",
   "metadata": {},
   "outputs": [],
   "source": [
    "import pandas as pd\n",
    "import os"
   ]
  },
  {
   "cell_type": "markdown",
   "id": "edbbbbb4",
   "metadata": {},
   "source": [
    "#### Creating data for a DataFrame"
   ]
  },
  {
   "cell_type": "code",
   "execution_count": 2,
   "id": "df3e39a8",
   "metadata": {},
   "outputs": [],
   "source": [
    "data = {\n",
    "    'name': ['John Reese', 'Harold Finch', 'Jocelyn Carter', 'Lionel Fusco', 'Sameen Shaw', 'Samantha Groves', 'Nathan Ingram', 'Jason Greenfield', 'Zoe Morgan', 'Caleb Phipps'],\n",
    "    'age': [42, 60, 38, 44, 25, 27, 50, 32, 41, 30],\n",
    "    'city_department_id': [101010, 202020, 303030, 404040, 505050, 606060, 202020, 303030, 101010, 505050],\n",
    "    \n",
    "}\n",
    "\n"
   ]
  },
  {
   "cell_type": "markdown",
   "id": "a4c0d978",
   "metadata": {},
   "source": [
    "#### Assigning data to a DataFrame"
   ]
  },
  {
   "cell_type": "code",
   "execution_count": 3,
   "id": "9a3c9521",
   "metadata": {},
   "outputs": [],
   "source": [
    "df = pd.DataFrame(data)"
   ]
  },
  {
   "cell_type": "code",
   "execution_count": 4,
   "id": "d071ca67",
   "metadata": {},
   "outputs": [
    {
     "data": {
      "text/html": [
       "<div>\n",
       "<style scoped>\n",
       "    .dataframe tbody tr th:only-of-type {\n",
       "        vertical-align: middle;\n",
       "    }\n",
       "\n",
       "    .dataframe tbody tr th {\n",
       "        vertical-align: top;\n",
       "    }\n",
       "\n",
       "    .dataframe thead th {\n",
       "        text-align: right;\n",
       "    }\n",
       "</style>\n",
       "<table border=\"1\" class=\"dataframe\">\n",
       "  <thead>\n",
       "    <tr style=\"text-align: right;\">\n",
       "      <th></th>\n",
       "      <th>name</th>\n",
       "      <th>age</th>\n",
       "      <th>city_department_id</th>\n",
       "    </tr>\n",
       "  </thead>\n",
       "  <tbody>\n",
       "    <tr>\n",
       "      <th>0</th>\n",
       "      <td>John Reese</td>\n",
       "      <td>42</td>\n",
       "      <td>101010</td>\n",
       "    </tr>\n",
       "    <tr>\n",
       "      <th>1</th>\n",
       "      <td>Harold Finch</td>\n",
       "      <td>60</td>\n",
       "      <td>202020</td>\n",
       "    </tr>\n",
       "    <tr>\n",
       "      <th>2</th>\n",
       "      <td>Jocelyn Carter</td>\n",
       "      <td>38</td>\n",
       "      <td>303030</td>\n",
       "    </tr>\n",
       "    <tr>\n",
       "      <th>3</th>\n",
       "      <td>Lionel Fusco</td>\n",
       "      <td>44</td>\n",
       "      <td>404040</td>\n",
       "    </tr>\n",
       "    <tr>\n",
       "      <th>4</th>\n",
       "      <td>Sameen Shaw</td>\n",
       "      <td>25</td>\n",
       "      <td>505050</td>\n",
       "    </tr>\n",
       "    <tr>\n",
       "      <th>5</th>\n",
       "      <td>Samantha Groves</td>\n",
       "      <td>27</td>\n",
       "      <td>606060</td>\n",
       "    </tr>\n",
       "    <tr>\n",
       "      <th>6</th>\n",
       "      <td>Nathan Ingram</td>\n",
       "      <td>50</td>\n",
       "      <td>202020</td>\n",
       "    </tr>\n",
       "    <tr>\n",
       "      <th>7</th>\n",
       "      <td>Jason Greenfield</td>\n",
       "      <td>32</td>\n",
       "      <td>303030</td>\n",
       "    </tr>\n",
       "    <tr>\n",
       "      <th>8</th>\n",
       "      <td>Zoe Morgan</td>\n",
       "      <td>41</td>\n",
       "      <td>101010</td>\n",
       "    </tr>\n",
       "    <tr>\n",
       "      <th>9</th>\n",
       "      <td>Caleb Phipps</td>\n",
       "      <td>30</td>\n",
       "      <td>505050</td>\n",
       "    </tr>\n",
       "  </tbody>\n",
       "</table>\n",
       "</div>"
      ],
      "text/plain": [
       "               name  age  city_department_id\n",
       "0        John Reese   42              101010\n",
       "1      Harold Finch   60              202020\n",
       "2    Jocelyn Carter   38              303030\n",
       "3      Lionel Fusco   44              404040\n",
       "4       Sameen Shaw   25              505050\n",
       "5   Samantha Groves   27              606060\n",
       "6     Nathan Ingram   50              202020\n",
       "7  Jason Greenfield   32              303030\n",
       "8        Zoe Morgan   41              101010\n",
       "9      Caleb Phipps   30              505050"
      ]
     },
     "execution_count": 4,
     "metadata": {},
     "output_type": "execute_result"
    }
   ],
   "source": [
    "df"
   ]
  },
  {
   "cell_type": "markdown",
   "id": "67e06d6d",
   "metadata": {},
   "source": [
    "#### Creating values for a future column"
   ]
  },
  {
   "cell_type": "code",
   "execution_count": 5,
   "id": "9e769a61",
   "metadata": {},
   "outputs": [],
   "source": [
    "badge_numbers = list(range(100, 110))"
   ]
  },
  {
   "cell_type": "markdown",
   "id": "86351d4a",
   "metadata": {},
   "source": [
    "#### Inserting a column into a DataFrame"
   ]
  },
  {
   "cell_type": "code",
   "execution_count": 6,
   "id": "a917079e",
   "metadata": {},
   "outputs": [],
   "source": [
    "df.insert(0, 'badge_number', badge_numbers)"
   ]
  },
  {
   "cell_type": "code",
   "execution_count": 7,
   "id": "95291b27",
   "metadata": {},
   "outputs": [
    {
     "data": {
      "text/html": [
       "<div>\n",
       "<style scoped>\n",
       "    .dataframe tbody tr th:only-of-type {\n",
       "        vertical-align: middle;\n",
       "    }\n",
       "\n",
       "    .dataframe tbody tr th {\n",
       "        vertical-align: top;\n",
       "    }\n",
       "\n",
       "    .dataframe thead th {\n",
       "        text-align: right;\n",
       "    }\n",
       "</style>\n",
       "<table border=\"1\" class=\"dataframe\">\n",
       "  <thead>\n",
       "    <tr style=\"text-align: right;\">\n",
       "      <th></th>\n",
       "      <th>badge_number</th>\n",
       "      <th>name</th>\n",
       "      <th>age</th>\n",
       "      <th>city_department_id</th>\n",
       "    </tr>\n",
       "  </thead>\n",
       "  <tbody>\n",
       "    <tr>\n",
       "      <th>0</th>\n",
       "      <td>100</td>\n",
       "      <td>John Reese</td>\n",
       "      <td>42</td>\n",
       "      <td>101010</td>\n",
       "    </tr>\n",
       "    <tr>\n",
       "      <th>1</th>\n",
       "      <td>101</td>\n",
       "      <td>Harold Finch</td>\n",
       "      <td>60</td>\n",
       "      <td>202020</td>\n",
       "    </tr>\n",
       "    <tr>\n",
       "      <th>2</th>\n",
       "      <td>102</td>\n",
       "      <td>Jocelyn Carter</td>\n",
       "      <td>38</td>\n",
       "      <td>303030</td>\n",
       "    </tr>\n",
       "    <tr>\n",
       "      <th>3</th>\n",
       "      <td>103</td>\n",
       "      <td>Lionel Fusco</td>\n",
       "      <td>44</td>\n",
       "      <td>404040</td>\n",
       "    </tr>\n",
       "    <tr>\n",
       "      <th>4</th>\n",
       "      <td>104</td>\n",
       "      <td>Sameen Shaw</td>\n",
       "      <td>25</td>\n",
       "      <td>505050</td>\n",
       "    </tr>\n",
       "    <tr>\n",
       "      <th>5</th>\n",
       "      <td>105</td>\n",
       "      <td>Samantha Groves</td>\n",
       "      <td>27</td>\n",
       "      <td>606060</td>\n",
       "    </tr>\n",
       "    <tr>\n",
       "      <th>6</th>\n",
       "      <td>106</td>\n",
       "      <td>Nathan Ingram</td>\n",
       "      <td>50</td>\n",
       "      <td>202020</td>\n",
       "    </tr>\n",
       "    <tr>\n",
       "      <th>7</th>\n",
       "      <td>107</td>\n",
       "      <td>Jason Greenfield</td>\n",
       "      <td>32</td>\n",
       "      <td>303030</td>\n",
       "    </tr>\n",
       "    <tr>\n",
       "      <th>8</th>\n",
       "      <td>108</td>\n",
       "      <td>Zoe Morgan</td>\n",
       "      <td>41</td>\n",
       "      <td>101010</td>\n",
       "    </tr>\n",
       "    <tr>\n",
       "      <th>9</th>\n",
       "      <td>109</td>\n",
       "      <td>Caleb Phipps</td>\n",
       "      <td>30</td>\n",
       "      <td>505050</td>\n",
       "    </tr>\n",
       "  </tbody>\n",
       "</table>\n",
       "</div>"
      ],
      "text/plain": [
       "   badge_number              name  age  city_department_id\n",
       "0           100        John Reese   42              101010\n",
       "1           101      Harold Finch   60              202020\n",
       "2           102    Jocelyn Carter   38              303030\n",
       "3           103      Lionel Fusco   44              404040\n",
       "4           104       Sameen Shaw   25              505050\n",
       "5           105   Samantha Groves   27              606060\n",
       "6           106     Nathan Ingram   50              202020\n",
       "7           107  Jason Greenfield   32              303030\n",
       "8           108        Zoe Morgan   41              101010\n",
       "9           109      Caleb Phipps   30              505050"
      ]
     },
     "execution_count": 7,
     "metadata": {},
     "output_type": "execute_result"
    }
   ],
   "source": [
    "df"
   ]
  },
  {
   "cell_type": "markdown",
   "id": "bd0c366e",
   "metadata": {},
   "source": [
    "![purple-divider](https://user-images.githubusercontent.com/7065401/52071927-c1cd7100-2562-11e9-908a-dde91ba14e59.png)"
   ]
  },
  {
   "cell_type": "markdown",
   "id": "d1fbf333",
   "metadata": {},
   "source": [
    "#### Setting index and exporting DataFrame as a CSV file"
   ]
  },
  {
   "cell_type": "markdown",
   "id": "075e9408",
   "metadata": {},
   "source": [
    "#### Setting badge_number column as DataFrame index"
   ]
  },
  {
   "cell_type": "code",
   "execution_count": 8,
   "id": "a3c7c3d5",
   "metadata": {},
   "outputs": [
    {
     "data": {
      "text/html": [
       "<div>\n",
       "<style scoped>\n",
       "    .dataframe tbody tr th:only-of-type {\n",
       "        vertical-align: middle;\n",
       "    }\n",
       "\n",
       "    .dataframe tbody tr th {\n",
       "        vertical-align: top;\n",
       "    }\n",
       "\n",
       "    .dataframe thead th {\n",
       "        text-align: right;\n",
       "    }\n",
       "</style>\n",
       "<table border=\"1\" class=\"dataframe\">\n",
       "  <thead>\n",
       "    <tr style=\"text-align: right;\">\n",
       "      <th></th>\n",
       "      <th>name</th>\n",
       "      <th>age</th>\n",
       "      <th>city_department_id</th>\n",
       "    </tr>\n",
       "    <tr>\n",
       "      <th>badge_number</th>\n",
       "      <th></th>\n",
       "      <th></th>\n",
       "      <th></th>\n",
       "    </tr>\n",
       "  </thead>\n",
       "  <tbody>\n",
       "    <tr>\n",
       "      <th>100</th>\n",
       "      <td>John Reese</td>\n",
       "      <td>42</td>\n",
       "      <td>101010</td>\n",
       "    </tr>\n",
       "    <tr>\n",
       "      <th>101</th>\n",
       "      <td>Harold Finch</td>\n",
       "      <td>60</td>\n",
       "      <td>202020</td>\n",
       "    </tr>\n",
       "    <tr>\n",
       "      <th>102</th>\n",
       "      <td>Jocelyn Carter</td>\n",
       "      <td>38</td>\n",
       "      <td>303030</td>\n",
       "    </tr>\n",
       "    <tr>\n",
       "      <th>103</th>\n",
       "      <td>Lionel Fusco</td>\n",
       "      <td>44</td>\n",
       "      <td>404040</td>\n",
       "    </tr>\n",
       "    <tr>\n",
       "      <th>104</th>\n",
       "      <td>Sameen Shaw</td>\n",
       "      <td>25</td>\n",
       "      <td>505050</td>\n",
       "    </tr>\n",
       "    <tr>\n",
       "      <th>105</th>\n",
       "      <td>Samantha Groves</td>\n",
       "      <td>27</td>\n",
       "      <td>606060</td>\n",
       "    </tr>\n",
       "    <tr>\n",
       "      <th>106</th>\n",
       "      <td>Nathan Ingram</td>\n",
       "      <td>50</td>\n",
       "      <td>202020</td>\n",
       "    </tr>\n",
       "    <tr>\n",
       "      <th>107</th>\n",
       "      <td>Jason Greenfield</td>\n",
       "      <td>32</td>\n",
       "      <td>303030</td>\n",
       "    </tr>\n",
       "    <tr>\n",
       "      <th>108</th>\n",
       "      <td>Zoe Morgan</td>\n",
       "      <td>41</td>\n",
       "      <td>101010</td>\n",
       "    </tr>\n",
       "    <tr>\n",
       "      <th>109</th>\n",
       "      <td>Caleb Phipps</td>\n",
       "      <td>30</td>\n",
       "      <td>505050</td>\n",
       "    </tr>\n",
       "  </tbody>\n",
       "</table>\n",
       "</div>"
      ],
      "text/plain": [
       "                          name  age  city_department_id\n",
       "badge_number                                           \n",
       "100                 John Reese   42              101010\n",
       "101               Harold Finch   60              202020\n",
       "102             Jocelyn Carter   38              303030\n",
       "103               Lionel Fusco   44              404040\n",
       "104                Sameen Shaw   25              505050\n",
       "105            Samantha Groves   27              606060\n",
       "106              Nathan Ingram   50              202020\n",
       "107           Jason Greenfield   32              303030\n",
       "108                 Zoe Morgan   41              101010\n",
       "109               Caleb Phipps   30              505050"
      ]
     },
     "execution_count": 8,
     "metadata": {},
     "output_type": "execute_result"
    }
   ],
   "source": [
    "df.set_index('badge_number')"
   ]
  },
  {
   "cell_type": "code",
   "execution_count": 9,
   "id": "3404d511",
   "metadata": {},
   "outputs": [],
   "source": [
    "# Specify the relative path to save the cleaned DataFrame\n",
    "relative_path_save = os.path.join('..','exported cleaned csv files', 'officers_data.csv')\n",
    "\n",
    "# Construct the absolute path to save the cleaned file\n",
    "absolute_path_save = os.path.abspath(relative_path_save)\n",
    "\n",
    "# Save the cleaned DataFrame to a CSV file\n",
    "df.to_csv(absolute_path_save, index=False)"
   ]
  }
 ],
 "metadata": {
  "kernelspec": {
   "display_name": "Python 3 (ipykernel)",
   "language": "python",
   "name": "python3"
  },
  "language_info": {
   "codemirror_mode": {
    "name": "ipython",
    "version": 3
   },
   "file_extension": ".py",
   "mimetype": "text/x-python",
   "name": "python",
   "nbconvert_exporter": "python",
   "pygments_lexer": "ipython3",
   "version": "3.9.13"
  }
 },
 "nbformat": 4,
 "nbformat_minor": 5
}
