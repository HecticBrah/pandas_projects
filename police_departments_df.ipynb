{
 "cells": [
  {
   "cell_type": "markdown",
   "id": "a5f658a7",
   "metadata": {},
   "source": [
    "#### Importing necessary libraries"
   ]
  },
  {
   "cell_type": "code",
   "execution_count": 28,
   "id": "64a075da",
   "metadata": {},
   "outputs": [],
   "source": [
    "import pandas as pd"
   ]
  },
  {
   "cell_type": "markdown",
   "id": "1ab545c9",
   "metadata": {},
   "source": [
    "#### Creating data for a DataFrame"
   ]
  },
  {
   "cell_type": "code",
   "execution_count": 29,
   "id": "6fd78787",
   "metadata": {},
   "outputs": [],
   "source": [
    "data = {\n",
    "    'city_department_id': [101010, 202020, 303030, 404040, 505050, 606060],\n",
    "     'city': ['New York', 'Bronx', 'Brooklyn', 'Manhattan', 'Queens', 'New Jersey'],\n",
    "    'address' : ['Police Plaza Path 1', '161 St 215 E', 'Precinct 75th', '42nd St 524 W', 'Precinct 105th', '7th St 207']\n",
    "}\n"
   ]
  },
  {
   "cell_type": "markdown",
   "id": "04484149",
   "metadata": {},
   "source": [
    "#### Assigning data to a DataFrame"
   ]
  },
  {
   "cell_type": "code",
   "execution_count": 30,
   "id": "21614377",
   "metadata": {},
   "outputs": [],
   "source": [
    "df = pd.DataFrame(data)"
   ]
  },
  {
   "cell_type": "code",
   "execution_count": 31,
   "id": "ec2b78a7",
   "metadata": {
    "scrolled": false
   },
   "outputs": [
    {
     "data": {
      "text/html": [
       "<div>\n",
       "<style scoped>\n",
       "    .dataframe tbody tr th:only-of-type {\n",
       "        vertical-align: middle;\n",
       "    }\n",
       "\n",
       "    .dataframe tbody tr th {\n",
       "        vertical-align: top;\n",
       "    }\n",
       "\n",
       "    .dataframe thead th {\n",
       "        text-align: right;\n",
       "    }\n",
       "</style>\n",
       "<table border=\"1\" class=\"dataframe\">\n",
       "  <thead>\n",
       "    <tr style=\"text-align: right;\">\n",
       "      <th></th>\n",
       "      <th>city_department_id</th>\n",
       "      <th>city</th>\n",
       "      <th>address</th>\n",
       "    </tr>\n",
       "  </thead>\n",
       "  <tbody>\n",
       "    <tr>\n",
       "      <th>0</th>\n",
       "      <td>101010</td>\n",
       "      <td>New York</td>\n",
       "      <td>Police Plaza Path 1</td>\n",
       "    </tr>\n",
       "    <tr>\n",
       "      <th>1</th>\n",
       "      <td>202020</td>\n",
       "      <td>Bronx</td>\n",
       "      <td>161 St 215 E</td>\n",
       "    </tr>\n",
       "    <tr>\n",
       "      <th>2</th>\n",
       "      <td>303030</td>\n",
       "      <td>Brooklyn</td>\n",
       "      <td>Precinct 75th</td>\n",
       "    </tr>\n",
       "    <tr>\n",
       "      <th>3</th>\n",
       "      <td>404040</td>\n",
       "      <td>Manhattan</td>\n",
       "      <td>42nd St 524 W</td>\n",
       "    </tr>\n",
       "    <tr>\n",
       "      <th>4</th>\n",
       "      <td>505050</td>\n",
       "      <td>Queens</td>\n",
       "      <td>Precinct 105th</td>\n",
       "    </tr>\n",
       "    <tr>\n",
       "      <th>5</th>\n",
       "      <td>606060</td>\n",
       "      <td>New Jersey</td>\n",
       "      <td>7th St 207</td>\n",
       "    </tr>\n",
       "  </tbody>\n",
       "</table>\n",
       "</div>"
      ],
      "text/plain": [
       "   city_department_id        city              address\n",
       "0              101010    New York  Police Plaza Path 1\n",
       "1              202020       Bronx         161 St 215 E\n",
       "2              303030    Brooklyn        Precinct 75th\n",
       "3              404040   Manhattan        42nd St 524 W\n",
       "4              505050      Queens       Precinct 105th\n",
       "5              606060  New Jersey           7th St 207"
      ]
     },
     "execution_count": 31,
     "metadata": {},
     "output_type": "execute_result"
    }
   ],
   "source": [
    "df"
   ]
  },
  {
   "cell_type": "markdown",
   "id": "afc2c31f",
   "metadata": {},
   "source": [
    "![purple-divider](https://user-images.githubusercontent.com/7065401/52071927-c1cd7100-2562-11e9-908a-dde91ba14e59.png)"
   ]
  },
  {
   "cell_type": "markdown",
   "id": "dc533d75",
   "metadata": {},
   "source": [
    "#### Setting index and exporting DataFrame as a CSV file"
   ]
  },
  {
   "cell_type": "markdown",
   "id": "aaef0b18",
   "metadata": {},
   "source": [
    "#### Setting city_department_id column as DataFrame index"
   ]
  },
  {
   "cell_type": "code",
   "execution_count": 32,
   "id": "414f2acc",
   "metadata": {},
   "outputs": [
    {
     "data": {
      "text/html": [
       "<div>\n",
       "<style scoped>\n",
       "    .dataframe tbody tr th:only-of-type {\n",
       "        vertical-align: middle;\n",
       "    }\n",
       "\n",
       "    .dataframe tbody tr th {\n",
       "        vertical-align: top;\n",
       "    }\n",
       "\n",
       "    .dataframe thead th {\n",
       "        text-align: right;\n",
       "    }\n",
       "</style>\n",
       "<table border=\"1\" class=\"dataframe\">\n",
       "  <thead>\n",
       "    <tr style=\"text-align: right;\">\n",
       "      <th></th>\n",
       "      <th>city</th>\n",
       "      <th>address</th>\n",
       "    </tr>\n",
       "    <tr>\n",
       "      <th>city_department_id</th>\n",
       "      <th></th>\n",
       "      <th></th>\n",
       "    </tr>\n",
       "  </thead>\n",
       "  <tbody>\n",
       "    <tr>\n",
       "      <th>101010</th>\n",
       "      <td>New York</td>\n",
       "      <td>Police Plaza Path 1</td>\n",
       "    </tr>\n",
       "    <tr>\n",
       "      <th>202020</th>\n",
       "      <td>Bronx</td>\n",
       "      <td>161 St 215 E</td>\n",
       "    </tr>\n",
       "    <tr>\n",
       "      <th>303030</th>\n",
       "      <td>Brooklyn</td>\n",
       "      <td>Precinct 75th</td>\n",
       "    </tr>\n",
       "    <tr>\n",
       "      <th>404040</th>\n",
       "      <td>Manhattan</td>\n",
       "      <td>42nd St 524 W</td>\n",
       "    </tr>\n",
       "    <tr>\n",
       "      <th>505050</th>\n",
       "      <td>Queens</td>\n",
       "      <td>Precinct 105th</td>\n",
       "    </tr>\n",
       "    <tr>\n",
       "      <th>606060</th>\n",
       "      <td>New Jersey</td>\n",
       "      <td>7th St 207</td>\n",
       "    </tr>\n",
       "  </tbody>\n",
       "</table>\n",
       "</div>"
      ],
      "text/plain": [
       "                          city              address\n",
       "city_department_id                                 \n",
       "101010                New York  Police Plaza Path 1\n",
       "202020                   Bronx         161 St 215 E\n",
       "303030                Brooklyn        Precinct 75th\n",
       "404040               Manhattan        42nd St 524 W\n",
       "505050                  Queens       Precinct 105th\n",
       "606060              New Jersey           7th St 207"
      ]
     },
     "execution_count": 32,
     "metadata": {},
     "output_type": "execute_result"
    }
   ],
   "source": [
    "df.set_index('city_department_id')"
   ]
  },
  {
   "cell_type": "code",
   "execution_count": 33,
   "id": "a114140a",
   "metadata": {},
   "outputs": [],
   "source": [
    "file_path = 'Downloads\\police_departments_data.csv'\n",
    "\n",
    "\n",
    "df.to_csv(file_path, index=False)"
   ]
  }
 ],
 "metadata": {
  "kernelspec": {
   "display_name": "Python 3 (ipykernel)",
   "language": "python",
   "name": "python3"
  },
  "language_info": {
   "codemirror_mode": {
    "name": "ipython",
    "version": 3
   },
   "file_extension": ".py",
   "mimetype": "text/x-python",
   "name": "python",
   "nbconvert_exporter": "python",
   "pygments_lexer": "ipython3",
   "version": "3.9.13"
  }
 },
 "nbformat": 4,
 "nbformat_minor": 5
}
